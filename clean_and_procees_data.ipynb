{
 "cells": [
  {
   "cell_type": "markdown",
   "metadata": {
    "id": "Znw_vQdMQZCJ"
   },
   "source": [
    "**Load Data**\n",
    "\n",
    "This project uses two excel files and States shapefile\n",
    "\n",
    "The first dataset contains US Highway fatalities 2019-2021\n",
    "\n",
    "The second dataset contains Per Capital alcohol consumption for 43 states 2019-2021. The data for 7 states was missing or incomplete and hence omitted.\n",
    "\n",
    "The third dataset contains States geographic data from mapping"
   ]
  },
  {
   "cell_type": "code",
   "execution_count": 1,
   "metadata": {
    "id": "pBVNArQqROTd"
   },
   "outputs": [],
   "source": [
    "#import the libraries\n",
    "import pandas as pd\n",
    "import matplotlib.pyplot as plt\n",
    "import seaborn as sns\n",
    "from sklearn.preprocessing import MinMaxScaler\n",
    "from bokeh.io import output_notebook, show\n",
    "from bokeh.plotting import figure\n",
    "from bokeh.models import ColumnDataSource\n",
    "from bokeh.palettes import Viridis256\n",
    "import geopandas as gpd\n",
    "import zipfile\n",
    "import os\n",
    "\n",
    "# Set the style for Matplotlib and Seaborn\n",
    "sns.set(style=\"whitegrid\")"
   ]
  },
  {
   "cell_type": "code",
   "execution_count": 2,
   "metadata": {
    "colab": {
     "base_uri": "https://localhost:8080/",
     "height": 391
    },
    "id": "k4CZMqnTQRha",
    "outputId": "8004af0f-198a-4fd1-f83d-e8250eb7f6b3"
   },
   "outputs": [
    {
     "data": {
      "text/html": [
       "<div>\n",
       "<style scoped>\n",
       "    .dataframe tbody tr th:only-of-type {\n",
       "        vertical-align: middle;\n",
       "    }\n",
       "\n",
       "    .dataframe tbody tr th {\n",
       "        vertical-align: top;\n",
       "    }\n",
       "\n",
       "    .dataframe thead th {\n",
       "        text-align: right;\n",
       "    }\n",
       "</style>\n",
       "<table border=\"1\" class=\"dataframe\">\n",
       "  <thead>\n",
       "    <tr style=\"text-align: right;\">\n",
       "      <th></th>\n",
       "      <th>State</th>\n",
       "      <th>Year_2019</th>\n",
       "      <th>Year_2020</th>\n",
       "      <th>Year_2021</th>\n",
       "    </tr>\n",
       "  </thead>\n",
       "  <tbody>\n",
       "    <tr>\n",
       "      <th>0</th>\n",
       "      <td>Alabama</td>\n",
       "      <td>1251</td>\n",
       "      <td>1215</td>\n",
       "      <td>1312</td>\n",
       "    </tr>\n",
       "    <tr>\n",
       "      <th>1</th>\n",
       "      <td>Alaska</td>\n",
       "      <td>90</td>\n",
       "      <td>85</td>\n",
       "      <td>91</td>\n",
       "    </tr>\n",
       "    <tr>\n",
       "      <th>2</th>\n",
       "      <td>Arizona</td>\n",
       "      <td>1284</td>\n",
       "      <td>1393</td>\n",
       "      <td>1662</td>\n",
       "    </tr>\n",
       "    <tr>\n",
       "      <th>3</th>\n",
       "      <td>Arkansas</td>\n",
       "      <td>668</td>\n",
       "      <td>856</td>\n",
       "      <td>927</td>\n",
       "    </tr>\n",
       "    <tr>\n",
       "      <th>4</th>\n",
       "      <td>California</td>\n",
       "      <td>4855</td>\n",
       "      <td>5374</td>\n",
       "      <td>5897</td>\n",
       "    </tr>\n",
       "  </tbody>\n",
       "</table>\n",
       "</div>"
      ],
      "text/plain": [
       "        State  Year_2019  Year_2020  Year_2021\n",
       "0     Alabama       1251       1215       1312\n",
       "1      Alaska         90         85         91\n",
       "2     Arizona       1284       1393       1662\n",
       "3    Arkansas        668        856        927\n",
       "4  California       4855       5374       5897"
      ]
     },
     "execution_count": 2,
     "metadata": {},
     "output_type": "execute_result"
    }
   ],
   "source": [
    "#Read CSV file 1 containing US Highway Fatalities 2019-2021\n",
    "US_Fatalities= pd.read_excel(\"datasets/Highway_Deaths.xlsx\")\n",
    "#display the first 5 rows of the US Fatalities dataset\n",
    "US_Fatalities.head()"
   ]
  },
  {
   "cell_type": "code",
   "execution_count": 3,
   "metadata": {
    "id": "LAPhPz9PRcrY"
   },
   "outputs": [
    {
     "name": "stdout",
     "output_type": "stream",
     "text": [
      "<class 'pandas.core.frame.DataFrame'>\n",
      "RangeIndex: 51 entries, 0 to 50\n",
      "Data columns (total 4 columns):\n",
      " #   Column     Non-Null Count  Dtype \n",
      "---  ------     --------------  ----- \n",
      " 0   State      51 non-null     object\n",
      " 1   Year_2019  51 non-null     int64 \n",
      " 2   Year_2020  51 non-null     int64 \n",
      " 3   Year_2021  51 non-null     int64 \n",
      "dtypes: int64(3), object(1)\n",
      "memory usage: 1.7+ KB\n"
     ]
    }
   ],
   "source": [
    "#check the US_Fatalities df info\n",
    "US_Fatalities.info()"
   ]
  },
  {
   "cell_type": "code",
   "execution_count": 4,
   "metadata": {
    "id": "0EXdNAaQQlnm"
   },
   "outputs": [
    {
     "data": {
      "text/html": [
       "<div>\n",
       "<style scoped>\n",
       "    .dataframe tbody tr th:only-of-type {\n",
       "        vertical-align: middle;\n",
       "    }\n",
       "\n",
       "    .dataframe tbody tr th {\n",
       "        vertical-align: top;\n",
       "    }\n",
       "\n",
       "    .dataframe thead th {\n",
       "        text-align: right;\n",
       "    }\n",
       "</style>\n",
       "<table border=\"1\" class=\"dataframe\">\n",
       "  <thead>\n",
       "    <tr style=\"text-align: right;\">\n",
       "      <th></th>\n",
       "      <th>State_District</th>\n",
       "      <th>2019_c</th>\n",
       "      <th>2020_c</th>\n",
       "      <th>2021_c</th>\n",
       "    </tr>\n",
       "  </thead>\n",
       "  <tbody>\n",
       "    <tr>\n",
       "      <th>0</th>\n",
       "      <td>Alabama</td>\n",
       "      <td>2.68</td>\n",
       "      <td>2.50</td>\n",
       "      <td>2.65</td>\n",
       "    </tr>\n",
       "    <tr>\n",
       "      <th>1</th>\n",
       "      <td>Alaska</td>\n",
       "      <td>3.24</td>\n",
       "      <td>3.42</td>\n",
       "      <td>3.65</td>\n",
       "    </tr>\n",
       "    <tr>\n",
       "      <th>2</th>\n",
       "      <td>Arizona</td>\n",
       "      <td>2.42</td>\n",
       "      <td>2.34</td>\n",
       "      <td>2.52</td>\n",
       "    </tr>\n",
       "    <tr>\n",
       "      <th>3</th>\n",
       "      <td>Arkansas</td>\n",
       "      <td>2.33</td>\n",
       "      <td>2.21</td>\n",
       "      <td>2.36</td>\n",
       "    </tr>\n",
       "    <tr>\n",
       "      <th>4</th>\n",
       "      <td>California</td>\n",
       "      <td>2.37</td>\n",
       "      <td>2.33</td>\n",
       "      <td>2.48</td>\n",
       "    </tr>\n",
       "  </tbody>\n",
       "</table>\n",
       "</div>"
      ],
      "text/plain": [
       "  State_District  2019_c  2020_c  2021_c\n",
       "0        Alabama    2.68    2.50    2.65\n",
       "1         Alaska    3.24    3.42    3.65\n",
       "2        Arizona    2.42    2.34    2.52\n",
       "3       Arkansas    2.33    2.21    2.36\n",
       "4     California    2.37    2.33    2.48"
      ]
     },
     "execution_count": 4,
     "metadata": {},
     "output_type": "execute_result"
    }
   ],
   "source": [
    "#Read the per capital alcohol concumption per state between 2019 and 2021\n",
    "Alcohol_consumption= pd.read_excel(\"datasets/Per_Capita_Alcohol_Consumption.xlsx\")\n",
    "#display the first 5 rows of the dataset\n",
    "Alcohol_consumption.head()"
   ]
  },
  {
   "cell_type": "code",
   "execution_count": 5,
   "metadata": {
    "id": "FpBja6t-Qqzn"
   },
   "outputs": [
    {
     "name": "stdout",
     "output_type": "stream",
     "text": [
      "<class 'pandas.core.frame.DataFrame'>\n",
      "RangeIndex: 43 entries, 0 to 42\n",
      "Data columns (total 4 columns):\n",
      " #   Column          Non-Null Count  Dtype  \n",
      "---  ------          --------------  -----  \n",
      " 0   State_District  43 non-null     object \n",
      " 1   2019_c          43 non-null     float64\n",
      " 2   2020_c          43 non-null     float64\n",
      " 3   2021_c          43 non-null     float64\n",
      "dtypes: float64(3), object(1)\n",
      "memory usage: 1.5+ KB\n"
     ]
    }
   ],
   "source": [
    "# Check the dataset's information\n",
    "Alcohol_consumption.info()"
   ]
  },
  {
   "cell_type": "markdown",
   "metadata": {
    "id": "dDHj7POKRqOu"
   },
   "source": [
    "**Clean, Normalize and merge the datasets**\n",
    "\n",
    "Since the alcohol consumption by state was already normalized to account for population differences, it was crucial to normalize the US fatalities dataset and eliminate those States whose Alcohol consumption data was not available."
   ]
  },
  {
   "cell_type": "code",
   "execution_count": 6,
   "metadata": {
    "id": "LhchAXFSRX-G"
   },
   "outputs": [
    {
     "data": {
      "text/html": [
       "<div>\n",
       "<style scoped>\n",
       "    .dataframe tbody tr th:only-of-type {\n",
       "        vertical-align: middle;\n",
       "    }\n",
       "\n",
       "    .dataframe tbody tr th {\n",
       "        vertical-align: top;\n",
       "    }\n",
       "\n",
       "    .dataframe thead th {\n",
       "        text-align: right;\n",
       "    }\n",
       "</style>\n",
       "<table border=\"1\" class=\"dataframe\">\n",
       "  <thead>\n",
       "    <tr style=\"text-align: right;\">\n",
       "      <th></th>\n",
       "      <th>State</th>\n",
       "      <th>Year_2019</th>\n",
       "      <th>Year_2020</th>\n",
       "      <th>Year_2021</th>\n",
       "    </tr>\n",
       "  </thead>\n",
       "  <tbody>\n",
       "    <tr>\n",
       "      <th>0</th>\n",
       "      <td>Alabama</td>\n",
       "      <td>0.237216</td>\n",
       "      <td>0.208691</td>\n",
       "      <td>0.190491</td>\n",
       "    </tr>\n",
       "    <tr>\n",
       "      <th>1</th>\n",
       "      <td>Alaska</td>\n",
       "      <td>0.011472</td>\n",
       "      <td>0.006617</td>\n",
       "      <td>0.005603</td>\n",
       "    </tr>\n",
       "    <tr>\n",
       "      <th>2</th>\n",
       "      <td>Arizona</td>\n",
       "      <td>0.243632</td>\n",
       "      <td>0.240522</td>\n",
       "      <td>0.243489</td>\n",
       "    </tr>\n",
       "    <tr>\n",
       "      <th>3</th>\n",
       "      <td>Arkansas</td>\n",
       "      <td>0.123858</td>\n",
       "      <td>0.144492</td>\n",
       "      <td>0.132193</td>\n",
       "    </tr>\n",
       "    <tr>\n",
       "      <th>4</th>\n",
       "      <td>California</td>\n",
       "      <td>0.937974</td>\n",
       "      <td>0.952432</td>\n",
       "      <td>0.884767</td>\n",
       "    </tr>\n",
       "  </tbody>\n",
       "</table>\n",
       "</div>"
      ],
      "text/plain": [
       "        State  Year_2019  Year_2020  Year_2021\n",
       "0     Alabama   0.237216   0.208691   0.190491\n",
       "1      Alaska   0.011472   0.006617   0.005603\n",
       "2     Arizona   0.243632   0.240522   0.243489\n",
       "3    Arkansas   0.123858   0.144492   0.132193\n",
       "4  California   0.937974   0.952432   0.884767"
      ]
     },
     "execution_count": 6,
     "metadata": {},
     "output_type": "execute_result"
    }
   ],
   "source": [
    "\n",
    "# Extract the columns to be normalized\n",
    "columns_to_normalize = ['Year_2019', 'Year_2020', 'Year_2021']\n",
    "\n",
    "# Initialize the MinMaxScaler\n",
    "scaler = MinMaxScaler()\n",
    "\n",
    "# Fit and transform the selected columns\n",
    "US_Fatalities[columns_to_normalize] = scaler.fit_transform(US_Fatalities[columns_to_normalize])\n",
    "\n",
    "#Display the first 5 rows of the normalized dataset\n",
    "\n",
    "US_Fatalities.head()"
   ]
  },
  {
   "cell_type": "code",
   "execution_count": 7,
   "metadata": {
    "id": "URlM3Q3NRxDq"
   },
   "outputs": [
    {
     "name": "stdout",
     "output_type": "stream",
     "text": [
      "Missing States: {'Utah', 'Texas', 'West Virginia', 'Vermont', 'Washington', 'Wisconsin', 'Virginia', 'Wyoming'}\n"
     ]
    }
   ],
   "source": [
    "# Extract states from US_Fatalities and Alcohol_consumption datasets\n",
    "fatalities_states = US_Fatalities['State'].tolist()\n",
    "alcohol_states = Alcohol_consumption['State_District'].tolist()\n",
    "\n",
    "# Find missing states by comparing columns\n",
    "missing_states = set(fatalities_states) ^ set(alcohol_states)\n",
    "\n",
    "#Print out the missing states\n",
    "\n",
    "print(\"Missing States:\", missing_states)\n"
   ]
  },
  {
   "cell_type": "code",
   "execution_count": 8,
   "metadata": {
    "id": "yOvWkmqNR3sS"
   },
   "outputs": [
    {
     "data": {
      "text/html": [
       "<div>\n",
       "<style scoped>\n",
       "    .dataframe tbody tr th:only-of-type {\n",
       "        vertical-align: middle;\n",
       "    }\n",
       "\n",
       "    .dataframe tbody tr th {\n",
       "        vertical-align: top;\n",
       "    }\n",
       "\n",
       "    .dataframe thead th {\n",
       "        text-align: right;\n",
       "    }\n",
       "</style>\n",
       "<table border=\"1\" class=\"dataframe\">\n",
       "  <thead>\n",
       "    <tr style=\"text-align: right;\">\n",
       "      <th></th>\n",
       "      <th>State</th>\n",
       "      <th>Year_2019</th>\n",
       "      <th>Year_2020</th>\n",
       "      <th>Year_2021</th>\n",
       "    </tr>\n",
       "  </thead>\n",
       "  <tbody>\n",
       "    <tr>\n",
       "      <th>0</th>\n",
       "      <td>Alabama</td>\n",
       "      <td>0.237216</td>\n",
       "      <td>0.208691</td>\n",
       "      <td>0.190491</td>\n",
       "    </tr>\n",
       "    <tr>\n",
       "      <th>1</th>\n",
       "      <td>Alaska</td>\n",
       "      <td>0.011472</td>\n",
       "      <td>0.006617</td>\n",
       "      <td>0.005603</td>\n",
       "    </tr>\n",
       "    <tr>\n",
       "      <th>2</th>\n",
       "      <td>Arizona</td>\n",
       "      <td>0.243632</td>\n",
       "      <td>0.240522</td>\n",
       "      <td>0.243489</td>\n",
       "    </tr>\n",
       "    <tr>\n",
       "      <th>3</th>\n",
       "      <td>Arkansas</td>\n",
       "      <td>0.123858</td>\n",
       "      <td>0.144492</td>\n",
       "      <td>0.132193</td>\n",
       "    </tr>\n",
       "    <tr>\n",
       "      <th>4</th>\n",
       "      <td>California</td>\n",
       "      <td>0.937974</td>\n",
       "      <td>0.952432</td>\n",
       "      <td>0.884767</td>\n",
       "    </tr>\n",
       "  </tbody>\n",
       "</table>\n",
       "</div>"
      ],
      "text/plain": [
       "        State  Year_2019  Year_2020  Year_2021\n",
       "0     Alabama   0.237216   0.208691   0.190491\n",
       "1      Alaska   0.011472   0.006617   0.005603\n",
       "2     Arizona   0.243632   0.240522   0.243489\n",
       "3    Arkansas   0.123858   0.144492   0.132193\n",
       "4  California   0.937974   0.952432   0.884767"
      ]
     },
     "execution_count": 8,
     "metadata": {},
     "output_type": "execute_result"
    }
   ],
   "source": [
    "# Find common states between US_Fatalities and Alcohol_consumption datasets\n",
    "common_states = set(fatalities_states) & set(alcohol_states)\n",
    "\n",
    "# Filter US_Fatalities dataset\n",
    "fatalities_data_cleaned = US_Fatalities[US_Fatalities['State'].isin(common_states)]\n",
    "\n",
    "#Display the cleaned dataset\n",
    "fatalities_data_cleaned.head()"
   ]
  },
  {
   "cell_type": "code",
   "execution_count": 9,
   "metadata": {
    "id": "alpUzH59R8kR"
   },
   "outputs": [
    {
     "name": "stdout",
     "output_type": "stream",
     "text": [
      "<class 'pandas.core.frame.DataFrame'>\n",
      "Index: 43 entries, 0 to 42\n",
      "Data columns (total 4 columns):\n",
      " #   Column     Non-Null Count  Dtype  \n",
      "---  ------     --------------  -----  \n",
      " 0   State      43 non-null     object \n",
      " 1   Year_2019  43 non-null     float64\n",
      " 2   Year_2020  43 non-null     float64\n",
      " 3   Year_2021  43 non-null     float64\n",
      "dtypes: float64(3), object(1)\n",
      "memory usage: 1.7+ KB\n"
     ]
    }
   ],
   "source": [
    "#Confirm that the dataset now contains 43 rows\n",
    "fatalities_data_cleaned.info()"
   ]
  },
  {
   "cell_type": "markdown",
   "metadata": {
    "id": "uyPX-G39SGud"
   },
   "source": [
    "**Merge the two dataset oon State column**\n",
    "\n",
    "The two datasets share the column State/State_District, making it easy to merge them"
   ]
  },
  {
   "cell_type": "code",
   "execution_count": 10,
   "metadata": {
    "id": "dj5eyn96SB3_"
   },
   "outputs": [
    {
     "data": {
      "text/html": [
       "<div>\n",
       "<style scoped>\n",
       "    .dataframe tbody tr th:only-of-type {\n",
       "        vertical-align: middle;\n",
       "    }\n",
       "\n",
       "    .dataframe tbody tr th {\n",
       "        vertical-align: top;\n",
       "    }\n",
       "\n",
       "    .dataframe thead th {\n",
       "        text-align: right;\n",
       "    }\n",
       "</style>\n",
       "<table border=\"1\" class=\"dataframe\">\n",
       "  <thead>\n",
       "    <tr style=\"text-align: right;\">\n",
       "      <th></th>\n",
       "      <th>State</th>\n",
       "      <th>Year_2019</th>\n",
       "      <th>Year_2020</th>\n",
       "      <th>Year_2021</th>\n",
       "      <th>2019_c</th>\n",
       "      <th>2020_c</th>\n",
       "      <th>2021_c</th>\n",
       "    </tr>\n",
       "  </thead>\n",
       "  <tbody>\n",
       "    <tr>\n",
       "      <th>0</th>\n",
       "      <td>Alabama</td>\n",
       "      <td>0.237216</td>\n",
       "      <td>0.208691</td>\n",
       "      <td>0.190491</td>\n",
       "      <td>2.68</td>\n",
       "      <td>2.50</td>\n",
       "      <td>2.65</td>\n",
       "    </tr>\n",
       "    <tr>\n",
       "      <th>1</th>\n",
       "      <td>Alaska</td>\n",
       "      <td>0.011472</td>\n",
       "      <td>0.006617</td>\n",
       "      <td>0.005603</td>\n",
       "      <td>3.24</td>\n",
       "      <td>3.42</td>\n",
       "      <td>3.65</td>\n",
       "    </tr>\n",
       "    <tr>\n",
       "      <th>2</th>\n",
       "      <td>Arizona</td>\n",
       "      <td>0.243632</td>\n",
       "      <td>0.240522</td>\n",
       "      <td>0.243489</td>\n",
       "      <td>2.42</td>\n",
       "      <td>2.34</td>\n",
       "      <td>2.52</td>\n",
       "    </tr>\n",
       "    <tr>\n",
       "      <th>3</th>\n",
       "      <td>Arkansas</td>\n",
       "      <td>0.123858</td>\n",
       "      <td>0.144492</td>\n",
       "      <td>0.132193</td>\n",
       "      <td>2.33</td>\n",
       "      <td>2.21</td>\n",
       "      <td>2.36</td>\n",
       "    </tr>\n",
       "    <tr>\n",
       "      <th>4</th>\n",
       "      <td>California</td>\n",
       "      <td>0.937974</td>\n",
       "      <td>0.952432</td>\n",
       "      <td>0.884767</td>\n",
       "      <td>2.37</td>\n",
       "      <td>2.33</td>\n",
       "      <td>2.48</td>\n",
       "    </tr>\n",
       "  </tbody>\n",
       "</table>\n",
       "</div>"
      ],
      "text/plain": [
       "        State  Year_2019  Year_2020  Year_2021  2019_c  2020_c  2021_c\n",
       "0     Alabama   0.237216   0.208691   0.190491    2.68    2.50    2.65\n",
       "1      Alaska   0.011472   0.006617   0.005603    3.24    3.42    3.65\n",
       "2     Arizona   0.243632   0.240522   0.243489    2.42    2.34    2.52\n",
       "3    Arkansas   0.123858   0.144492   0.132193    2.33    2.21    2.36\n",
       "4  California   0.937974   0.952432   0.884767    2.37    2.33    2.48"
      ]
     },
     "execution_count": 10,
     "metadata": {},
     "output_type": "execute_result"
    }
   ],
   "source": [
    "# Merge datasets on the 'State' column\n",
    "merged_data = pd.merge(fatalities_data_cleaned, Alcohol_consumption, left_on='State', right_on='State_District', how='inner')\n",
    "\n",
    "# Drop the duplicate 'State_District' column, if needed\n",
    "merged_data = merged_data.drop('State_District', axis=1)\n",
    "\n",
    "# Display the merged dataset\n",
    "merged_data.head()\n"
   ]
  },
  {
   "cell_type": "code",
   "execution_count": 11,
   "metadata": {
    "id": "qJUKPVGnSNSZ"
   },
   "outputs": [],
   "source": [
    "#export the merged data to your Data folder\n",
    "filepath=\"datasets/merged_data.csv\"\n",
    "merged_data.to_csv(filepath, index = False)"
   ]
  },
  {
   "cell_type": "code",
   "execution_count": 12,
   "metadata": {
    "id": "dB1a5mLDULLU"
   },
   "outputs": [],
   "source": [
    "# Unzip the shapefile\n",
    "zip_path = 'datasets/States_shapefile-shp.zip'\n",
    "shapefile_path = 'datasets/States_shapefile-shp/'\n",
    "with zipfile.ZipFile(zip_path, 'r') as zip_ref:\n",
    "    zip_ref.extractall(shapefile_path)\n",
    "\n",
    "# Get the path to the extracted shapefile\n",
    "extracted_files = os.listdir(shapefile_path)\n",
    "shapefile_name = [file for file in extracted_files if file.endswith('.shp')][0]\n",
    "full_shapefile_path = os.path.join(shapefile_path, shapefile_name)\n",
    "\n",
    "# Load the shapefile with U.S. states geometries\n",
    "us_states = gpd.read_file(full_shapefile_path)\n",
    "# Convert the 'State_Name' column to lowercase and remove leading/trailing spaces in the us_states GeoDataFrame\n",
    "us_states['State_Name'] = us_states['State_Name'].str.lower().str.strip()\n",
    "\n",
    "# Convert the 'State' column to lowercase and remove leading/trailing spaces in the merged_data DataFrame\n",
    "merged_data['State'] = merged_data['State'].str.lower().str.strip()\n",
    "\n",
    "# Merge the state geometries with the merged_data DataFrame containing average alcohol consumption\n",
    "merged_map_data = us_states.merge(merged_data, left_on='State_Name', right_on='State', how='inner')\n",
    "\n",
    "#Save the merged dataset to your Data folder\n",
    "merged_map_data.to_csv(\"datasets/merged_data_map.csv\", index =False)"
   ]
  },
  {
   "cell_type": "markdown",
   "metadata": {
    "id": "QRXbDNZkTrr6"
   },
   "source": [
    "**Cleaned Datasets**\n",
    "- The Highway traffic fatalities dataset and Per Capital Alcohol consumption by State have been merged into one dataset\n",
    "- The merged dataset is merged with the States' geographical data for choropleth map in visualization"
   ]
  }
 ],
 "metadata": {
  "colab": {
   "provenance": []
  },
  "kernelspec": {
   "display_name": "myenv",
   "language": "python",
   "name": "myenv"
  },
  "language_info": {
   "codemirror_mode": {
    "name": "ipython",
    "version": 3
   },
   "file_extension": ".py",
   "mimetype": "text/x-python",
   "name": "python",
   "nbconvert_exporter": "python",
   "pygments_lexer": "ipython3",
   "version": "3.11.0"
  }
 },
 "nbformat": 4,
 "nbformat_minor": 1
}
